{
 "cells": [
  {
   "cell_type": "markdown",
   "metadata": {},
   "source": [
    "## Understanding Tensorflow : "
   ]
  },
  {
   "cell_type": "markdown",
   "metadata": {},
   "source": [
    "Tensorflow is a perfect open source library for research and production popularly used for deep learning. <br>\n",
    "This notebook's goal is to see how tensorflow works under the hood. I will be trying to mimic its API and implement the core building blocks from scratch. The most important term I will be dealing with are variables, constants, tensors, sessions and operations. <br><br>\n",
    "Tensorflow is composed of two core building blocks : <br> \n",
    "$\\bullet$ A library for defining __computational graphs__ : an abstract way of describing computations as a directed graph. <br>\n",
    "$\\bullet$ A __runtime__ for execution.<br><br>"
   ]
  },
  {
   "cell_type": "markdown",
   "metadata": {},
   "source": [
    "Computational graphs, also known as __data flow graphs__, have nodes that represent mostly operations, variables or placeholders and edges that represent data in the form of tensors. <br> <br>\n",
    "Using computational graphs allow parallelism or dependency driving scheduling between operations if the latter do not depend on each other even though they have same input. ==> More efficiency "
   ]
  },
  {
   "cell_type": "markdown",
   "metadata": {},
   "source": [
    "Tensorflow separates declaration and execution (Better than numpy since it doesn't directly allocate memory, less errors).<br><br>\n",
    "For now, I am going to implement different classes to try to mimic tensorflow's API : Graph, Operation, add, multiply, divide, matmul, Placeholder, Constant, Variable, Session "
   ]
  },
  {
   "cell_type": "code",
   "execution_count": 1,
   "metadata": {},
   "outputs": [],
   "source": [
    "import numpy as np"
   ]
  },
  {
   "cell_type": "code",
   "execution_count": 2,
   "metadata": {},
   "outputs": [],
   "source": [
    "class Graph():\n",
    "    def __init__(self):\n",
    "        self.operations = []\n",
    "        self.placeholders = []\n",
    "        self.variables = []\n",
    "        self.constants = []\n",
    "\n",
    "    def as_default(self):\n",
    "        global _default_graph\n",
    "        _default_graph = self"
   ]
  },
  {
   "cell_type": "code",
   "execution_count": 3,
   "metadata": {},
   "outputs": [],
   "source": [
    "class Operation():\n",
    "    def __init__(self, input_nodes=None):\n",
    "        self.input_nodes = input_nodes\n",
    "        self.output = None\n",
    "    \n",
    "    # An operation adds itself to the default graph\n",
    "        _default_graph.operations.append(self)\n",
    "\n",
    "    def forward(self):\n",
    "        pass"
   ]
  },
  {
   "cell_type": "code",
   "execution_count": 4,
   "metadata": {},
   "outputs": [],
   "source": [
    "class BinaryOperation(Operation):\n",
    "    def __init__(self, a, b):\n",
    "        super().__init__([a, b])"
   ]
  },
  {
   "cell_type": "code",
   "execution_count": 5,
   "metadata": {},
   "outputs": [],
   "source": [
    "class add(BinaryOperation):\n",
    "    \"\"\"\n",
    "    Computes a + b, element-wise\n",
    "    \"\"\"\n",
    "    def forward(self, a, b):\n",
    "        return a + b\n",
    "\n",
    "\n",
    "class multiply(BinaryOperation):\n",
    "    \"\"\"\n",
    "    Computes a * b, element-wise\n",
    "    \"\"\"\n",
    "    def forward(self, a, b):\n",
    "        return a * b\n",
    "\n",
    "\n",
    "class divide(BinaryOperation):\n",
    "    \"\"\"\n",
    "    Returns the true division of the inputs, element-wise\n",
    "    \"\"\"\n",
    "    def forward(self, a, b):\n",
    "        return np.true_divide(a, b)\n",
    "\n",
    "\n",
    "class matmul(BinaryOperation):\n",
    "    \"\"\"\n",
    "    Multiplies matrix a by matrix b, producing a * b\n",
    "    \"\"\"\n",
    "    def forward(self, a, b):\n",
    "        return a.dot(b)"
   ]
  },
  {
   "cell_type": "code",
   "execution_count": 6,
   "metadata": {},
   "outputs": [],
   "source": [
    "class Placeholder():\n",
    "    def __init__(self):\n",
    "        self.value = None\n",
    "        _default_graph.placeholders.append(self)"
   ]
  },
  {
   "cell_type": "code",
   "execution_count": 7,
   "metadata": {},
   "outputs": [],
   "source": [
    "class Constant():\n",
    "    def __init__(self, value=None):\n",
    "        self.__value = value\n",
    "        _default_graph.constants.append(self)\n",
    "\n",
    "    @property\n",
    "    def value(self):\n",
    "        return self.__value\n",
    "\n",
    "    @value.setter\n",
    "    def value(self, value):\n",
    "        raise ValueError(\"Cannot reassign value.\")"
   ]
  },
  {
   "cell_type": "code",
   "execution_count": 8,
   "metadata": {},
   "outputs": [],
   "source": [
    "class Variable():\n",
    "    def __init__(self, initial_value=None):\n",
    "        self.value = initial_value\n",
    "        _default_graph.variables.append(self)"
   ]
  },
  {
   "cell_type": "code",
   "execution_count": 9,
   "metadata": {},
   "outputs": [],
   "source": [
    "def topology_sort(operation):\n",
    "    ordering = []\n",
    "    visited_nodes = set()\n",
    "\n",
    "    def recursive_helper(node):\n",
    "        if isinstance(node, Operation):\n",
    "            for input_node in node.input_nodes:\n",
    "                if input_node not in visited_nodes:\n",
    "                    recursive_helper(input_node)\n",
    "\n",
    "        visited_nodes.add(node)\n",
    "        ordering.append(node)\n",
    "\n",
    "    # start recursive depth-first search\n",
    "    recursive_helper(operation)\n",
    "\n",
    "    return ordering"
   ]
  },
  {
   "cell_type": "code",
   "execution_count": 10,
   "metadata": {},
   "outputs": [],
   "source": [
    "class Session():\n",
    "    def run(self, operation, feed_dict={}):\n",
    "        nodes_sorted = topology_sort(operation)\n",
    "\n",
    "        for node in nodes_sorted:\n",
    "            if type(node) == Placeholder:\n",
    "                node.output = feed_dict[node]\n",
    "            elif type(node) == Variable or type(node) == Constant:\n",
    "                node.output = node.value\n",
    "            else:\n",
    "                inputs = [node.output for node in node.input_nodes]\n",
    "                node.output = node.forward(*inputs)\n",
    "\n",
    "        return operation.output"
   ]
  },
  {
   "cell_type": "markdown",
   "metadata": {},
   "source": [
    "Now that we have defined all the components of our API mimicing Tensorflow, let's test in on simple operation :"
   ]
  },
  {
   "cell_type": "code",
   "execution_count": 11,
   "metadata": {},
   "outputs": [
    {
     "name": "stdout",
     "output_type": "stream",
     "text": [
      "3.7333333333333334\n"
     ]
    }
   ],
   "source": [
    "# Creating the default computational graph\n",
    "Graph().as_default()\n",
    "\n",
    "# Adding some nodes\n",
    "a = Constant(7)\n",
    "b = Constant(8)\n",
    "prod = multiply(a, b)\n",
    "sum = add(a, b)\n",
    "res = divide(prod, sum)\n",
    "\n",
    "# create a session object\n",
    "session = Session()\n",
    "\n",
    "# run computational graph to compute the output for 'res'\n",
    "out = session.run(res)\n",
    "print(out)"
   ]
  },
  {
   "cell_type": "code",
   "execution_count": null,
   "metadata": {},
   "outputs": [],
   "source": []
  }
 ],
 "metadata": {
  "kernelspec": {
   "display_name": "Python 3",
   "language": "python",
   "name": "python3"
  },
  "language_info": {
   "codemirror_mode": {
    "name": "ipython",
    "version": 3
   },
   "file_extension": ".py",
   "mimetype": "text/x-python",
   "name": "python",
   "nbconvert_exporter": "python",
   "pygments_lexer": "ipython3",
   "version": "3.6.7"
  }
 },
 "nbformat": 4,
 "nbformat_minor": 2
}
